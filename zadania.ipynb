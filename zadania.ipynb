{
 "cells": [
  {
   "cell_type": "markdown",
   "id": "758ca31f",
   "metadata": {},
   "source": [
    "### Zadanie 1"
   ]
  },
  {
   "cell_type": "markdown",
   "id": "518a7623",
   "metadata": {},
   "source": [
    "Stwórz sieć splotową, która z dokładnością na poziomie conajmniej 80% będzie klasyfikowała zdjęcia psów i kotów.\n",
    "Zbiór danych - https://www.kaggle.com/c/dogs-vs-cats/overview"
   ]
  },
  {
   "cell_type": "markdown",
   "id": "d8b6f31b",
   "metadata": {},
   "source": [
    "### Zadanie 2"
   ]
  },
  {
   "cell_type": "markdown",
   "id": "f8796992",
   "metadata": {},
   "source": [
    "Stwórz sieć, która klasyfikować będzie zdjęcia ubrań na podstawie zbioru Fashion MNIST (https://keras.io/api/datasets/fashion_mnist/)."
   ]
  },
  {
   "cell_type": "markdown",
   "id": "fa946c19",
   "metadata": {},
   "source": [
    "### Zadanie 3"
   ]
  },
  {
   "cell_type": "markdown",
   "id": "44618ccb",
   "metadata": {},
   "source": [
    "Stwórz własną sieć konwolucyjną, której zadaniem będzie klasyfikacja obrazków pochodzących ze zbioru CIFAR100\n",
    "\n",
    "https://www.cs.toronto.edu/~kriz/cifar.html"
   ]
  },
  {
   "cell_type": "markdown",
   "id": "d6dcc25f",
   "metadata": {},
   "source": [
    "### Zadanie 4\n",
    "\n",
    "W pliku data/BankNoteAuthentication.csv znajdują się dane o banknotach. Część z banknotów jest fałszywa. Każdemu banknotowi zrobiono zdjęcie. Otrzymany obraz poddano transformacji falkowej. Z tak przetworzonego obrazu wyekstrahowano cechy i zapisano jest w pliku csv. Ostatnia kolumna zawiera informację o tym, czy banknot jest prawdziwy. 0 oznacza, że banknot jest prawdziwy, 1 że jest fałszywy. Stwórz własną sieć neuronową, której zadaniem będzie klasyfikacja banknotu do jednej z dwóch grup. Wyuczony klasyfikator zapisz w pliku."
   ]
  }
 ],
 "metadata": {
  "kernelspec": {
   "display_name": "Python 3 (ipykernel)",
   "language": "python",
   "name": "python3"
  },
  "language_info": {
   "codemirror_mode": {
    "name": "ipython",
    "version": 3
   },
   "file_extension": ".py",
   "mimetype": "text/x-python",
   "name": "python",
   "nbconvert_exporter": "python",
   "pygments_lexer": "ipython3",
   "version": "3.11.1"
  }
 },
 "nbformat": 4,
 "nbformat_minor": 5
}
